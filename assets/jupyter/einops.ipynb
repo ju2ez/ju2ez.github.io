{
 "cells": [
  {
   "cell_type": "code",
   "execution_count": 2,
   "metadata": {},
   "outputs": [],
   "source": [
    "import plotly.express as px\n",
    "import matplotlib.pyplot as plt\n",
    "import torch\n",
    "from einops import rearrange, repeat, reduce"
   ]
  },
  {
   "cell_type": "code",
   "execution_count": 18,
   "metadata": {},
   "outputs": [],
   "source": [
    "# a random vector with height H width W and channel-dim C\n",
    "x = torch.rand(10, 10, 3)"
   ]
  },
  {
   "cell_type": "code",
   "execution_count": 29,
   "metadata": {},
   "outputs": [
    {
     "name": "stdout",
     "output_type": "stream",
     "text": [
      "H W C : [10, 10, 3]\n",
      "C H W : [3, 10, 10]\n",
      "(H W)C : [100, 3]\n"
     ]
    }
   ],
   "source": [
    "print(\"H W C :\", list(x.shape))\n",
    "# we can rearrange the tensor to have the channels as the first dimension\n",
    "print(\"C H W :\", list(rearrange(x, \"H W C -> C H W \").shape))\n",
    "# we can also merge the height and width dimensions\n",
    "print(\"(H W)C :\", list(rearrange(x, \"H W C -> (H W) C\").shape))"
   ]
  },
  {
   "cell_type": "code",
   "execution_count": 2,
   "metadata": {},
   "outputs": [
    {
     "name": "stderr",
     "output_type": "stream",
     "text": [
      "C:\\Users\\julian.hatzky\\AppData\\Roaming\\Python\\Python311\\site-packages\\pydub\\utils.py:170: RuntimeWarning: Couldn't find ffmpeg or avconv - defaulting to ffmpeg, but may not work\n",
      "  warn(\"Couldn't find ffmpeg or avconv - defaulting to ffmpeg, but may not work\", RuntimeWarning)\n"
     ]
    },
    {
     "ename": "ImportError",
     "evalue": "cannot import name 'ShowCreation' from 'manim' (C:\\Users\\julian.hatzky\\AppData\\Roaming\\Python\\Python311\\site-packages\\manim\\__init__.py)",
     "output_type": "error",
     "traceback": [
      "\u001b[1;31m---------------------------------------------------------------------------\u001b[0m",
      "\u001b[1;31mImportError\u001b[0m                               Traceback (most recent call last)",
      "Cell \u001b[1;32mIn[2], line 2\u001b[0m\n\u001b[0;32m      1\u001b[0m \u001b[38;5;28;01mimport\u001b[39;00m \u001b[38;5;21;01mmanim\u001b[39;00m\n\u001b[1;32m----> 2\u001b[0m \u001b[38;5;28;01mfrom\u001b[39;00m \u001b[38;5;21;01mmanim\u001b[39;00m \u001b[38;5;28;01mimport\u001b[39;00m Scene, Circle, Square, Line, Text, MathTex, ShowCreation, Write, FadeOut, Transform, ApplyMethod, Wait\n",
      "\u001b[1;31mImportError\u001b[0m: cannot import name 'ShowCreation' from 'manim' (C:\\Users\\julian.hatzky\\AppData\\Roaming\\Python\\Python311\\site-packages\\manim\\__init__.py)"
     ]
    }
   ],
   "source": [
    "import manim\n",
    "from manim import Scene, Circle, Square, Line, Text, MathTex, ShowCreation, Write, FadeOut, Transform, ApplyMethod, Wait"
   ]
  },
  {
   "cell_type": "code",
   "execution_count": 1,
   "metadata": {},
   "outputs": [
    {
     "ename": "NameError",
     "evalue": "name 'Scene' is not defined",
     "output_type": "error",
     "traceback": [
      "\u001b[1;31m---------------------------------------------------------------------------\u001b[0m",
      "\u001b[1;31mNameError\u001b[0m                                 Traceback (most recent call last)",
      "Cell \u001b[1;32mIn[1], line 1\u001b[0m\n\u001b[1;32m----> 1\u001b[0m \u001b[38;5;28;01mclass\u001b[39;00m \u001b[38;5;21;01mOpeningManim\u001b[39;00m(Scene):\n\u001b[0;32m      2\u001b[0m     \u001b[38;5;28;01mdef\u001b[39;00m \u001b[38;5;21mconstruct\u001b[39m(\u001b[38;5;28mself\u001b[39m):\n\u001b[0;32m      3\u001b[0m         title \u001b[38;5;241m=\u001b[39m Tex(\u001b[38;5;124mr\u001b[39m\u001b[38;5;124m\"\u001b[39m\u001b[38;5;124mThis is some \u001b[39m\u001b[38;5;124m\\\u001b[39m\u001b[38;5;124mLaTeX\u001b[39m\u001b[38;5;124m\"\u001b[39m)\n",
      "\u001b[1;31mNameError\u001b[0m: name 'Scene' is not defined"
     ]
    }
   ],
   "source": [
    "class OpeningManim(Scene):\n",
    "    def construct(self):\n",
    "        title = Tex(r\"This is some \\LaTeX\")\n",
    "        basel = MathTex(r\"\\sum_{n=1}^\\infty \\frac{1}{n^2} = \\frac{\\pi^2}{6}\")\n",
    "        VGroup(title, basel).arrange(DOWN)\n",
    "        self.play(\n",
    "            Write(title),\n",
    "            FadeIn(basel, shift=DOWN),\n",
    "        )\n",
    "        self.wait()\n",
    "\n",
    "        transform_title = Tex(\"That was a transform\")\n",
    "        transform_title.to_corner(UP + LEFT)\n",
    "        self.play(\n",
    "            Transform(title, transform_title),\n",
    "            LaggedStart(*(FadeOut(obj, shift=DOWN) for obj in basel)),\n",
    "        )\n",
    "        self.wait()\n",
    "\n",
    "        grid = NumberPlane()\n",
    "        grid_title = Tex(\"This is a grid\", font_size=72)\n",
    "        grid_title.move_to(transform_title)\n",
    "\n",
    "        self.add(grid, grid_title)  # Make sure title is on top of grid\n",
    "        self.play(\n",
    "            FadeOut(title),\n",
    "            FadeIn(grid_title, shift=UP),\n",
    "            Create(grid, run_time=3, lag_ratio=0.1),\n",
    "        )\n",
    "        self.wait()\n",
    "\n",
    "        grid_transform_title = Tex(\n",
    "            r\"That was a non-linear function \\\\ applied to the grid\",\n",
    "        )\n",
    "        grid_transform_title.move_to(grid_title, UL)\n",
    "        grid.prepare_for_nonlinear_transform()\n",
    "        self.play(\n",
    "            grid.animate.apply_function(\n",
    "                lambda p: p\n",
    "                + np.array(\n",
    "                    [\n",
    "                        np.sin(p[1]),\n",
    "                        np.sin(p[0]),\n",
    "                        0,\n",
    "                    ],\n",
    "                ),\n",
    "            ),\n",
    "            run_time=3,\n",
    "        )"
   ]
  },
  {
   "cell_type": "code",
   "execution_count": 8,
   "metadata": {},
   "outputs": [
    {
     "ename": "RuntimeError",
     "evalue": "Manim could not find ffmpeg, which is required for generating video output.\nFor installing ffmpeg please consult https://docs.manim.community/en/stable/installation.html\nMake sure to either add ffmpeg to the PATH environment variable\nor set path to the ffmpeg executable under the ffmpeg header in Manim's configuration.",
     "output_type": "error",
     "traceback": [
      "\u001b[1;31m---------------------------------------------------------------------------\u001b[0m",
      "\u001b[1;31mRuntimeError\u001b[0m                              Traceback (most recent call last)",
      "Cell \u001b[1;32mIn[8], line 1\u001b[0m\n\u001b[1;32m----> 1\u001b[0m openin \u001b[38;5;241m=\u001b[39m OpeningManim()\n\u001b[0;32m      2\u001b[0m openin\u001b[38;5;241m.\u001b[39mrender()\n",
      "File \u001b[1;32m~\\AppData\\Roaming\\Python\\Python311\\site-packages\\manim\\scene\\scene.py:147\u001b[0m, in \u001b[0;36mScene.__init__\u001b[1;34m(self, renderer, camera_class, always_update_mobjects, random_seed, skip_animations)\u001b[0m\n\u001b[0;32m    145\u001b[0m \u001b[38;5;28;01melse\u001b[39;00m:\n\u001b[0;32m    146\u001b[0m     \u001b[38;5;28mself\u001b[39m\u001b[38;5;241m.\u001b[39mrenderer \u001b[38;5;241m=\u001b[39m renderer\n\u001b[1;32m--> 147\u001b[0m \u001b[38;5;28mself\u001b[39m\u001b[38;5;241m.\u001b[39mrenderer\u001b[38;5;241m.\u001b[39minit_scene(\u001b[38;5;28mself\u001b[39m)\n\u001b[0;32m    149\u001b[0m \u001b[38;5;28mself\u001b[39m\u001b[38;5;241m.\u001b[39mmobjects \u001b[38;5;241m=\u001b[39m []\n\u001b[0;32m    150\u001b[0m \u001b[38;5;66;03m# TODO, remove need for foreground mobjects\u001b[39;00m\n",
      "File \u001b[1;32m~\\AppData\\Roaming\\Python\\Python311\\site-packages\\manim\\renderer\\cairo_renderer.py:54\u001b[0m, in \u001b[0;36mCairoRenderer.init_scene\u001b[1;34m(self, scene)\u001b[0m\n\u001b[0;32m     53\u001b[0m \u001b[38;5;28;01mdef\u001b[39;00m \u001b[38;5;21minit_scene\u001b[39m(\u001b[38;5;28mself\u001b[39m, scene):\n\u001b[1;32m---> 54\u001b[0m     \u001b[38;5;28mself\u001b[39m\u001b[38;5;241m.\u001b[39mfile_writer: Any \u001b[38;5;241m=\u001b[39m \u001b[38;5;28mself\u001b[39m\u001b[38;5;241m.\u001b[39m_file_writer_class(\n\u001b[0;32m     55\u001b[0m         \u001b[38;5;28mself\u001b[39m,\n\u001b[0;32m     56\u001b[0m         scene\u001b[38;5;241m.\u001b[39m\u001b[38;5;18m__class__\u001b[39m\u001b[38;5;241m.\u001b[39m\u001b[38;5;18m__name__\u001b[39m,\n\u001b[0;32m     57\u001b[0m     )\n",
      "File \u001b[1;32m~\\AppData\\Roaming\\Python\\Python311\\site-packages\\manim\\scene\\scene_file_writer.py:88\u001b[0m, in \u001b[0;36mSceneFileWriter.__init__\u001b[1;34m(self, renderer, scene_name, **kwargs)\u001b[0m\n\u001b[0;32m     86\u001b[0m \u001b[38;5;66;03m# fail fast if ffmpeg is not found\u001b[39;00m\n\u001b[0;32m     87\u001b[0m \u001b[38;5;28;01mif\u001b[39;00m \u001b[38;5;129;01mnot\u001b[39;00m ensure_executable(Path(config\u001b[38;5;241m.\u001b[39mffmpeg_executable)):\n\u001b[1;32m---> 88\u001b[0m     \u001b[38;5;28;01mraise\u001b[39;00m \u001b[38;5;167;01mRuntimeError\u001b[39;00m(\n\u001b[0;32m     89\u001b[0m         \u001b[38;5;124m\"\u001b[39m\u001b[38;5;124mManim could not find ffmpeg, which is required for generating video output.\u001b[39m\u001b[38;5;130;01m\\n\u001b[39;00m\u001b[38;5;124m\"\u001b[39m\n\u001b[0;32m     90\u001b[0m         \u001b[38;5;124m\"\u001b[39m\u001b[38;5;124mFor installing ffmpeg please consult https://docs.manim.community/en/stable/installation.html\u001b[39m\u001b[38;5;130;01m\\n\u001b[39;00m\u001b[38;5;124m\"\u001b[39m\n\u001b[0;32m     91\u001b[0m         \u001b[38;5;124m\"\u001b[39m\u001b[38;5;124mMake sure to either add ffmpeg to the PATH environment variable\u001b[39m\u001b[38;5;130;01m\\n\u001b[39;00m\u001b[38;5;124m\"\u001b[39m\n\u001b[0;32m     92\u001b[0m         \u001b[38;5;124m\"\u001b[39m\u001b[38;5;124mor set path to the ffmpeg executable under the ffmpeg header in Manim\u001b[39m\u001b[38;5;124m'\u001b[39m\u001b[38;5;124ms configuration.\u001b[39m\u001b[38;5;124m\"\u001b[39m\n\u001b[0;32m     93\u001b[0m     )\n",
      "\u001b[1;31mRuntimeError\u001b[0m: Manim could not find ffmpeg, which is required for generating video output.\nFor installing ffmpeg please consult https://docs.manim.community/en/stable/installation.html\nMake sure to either add ffmpeg to the PATH environment variable\nor set path to the ffmpeg executable under the ffmpeg header in Manim's configuration."
     ]
    }
   ],
   "source": [
    "openin = OpeningManim()\n",
    "openin.render()"
   ]
  },
  {
   "cell_type": "code",
   "execution_count": null,
   "metadata": {},
   "outputs": [],
   "source": []
  }
 ],
 "metadata": {
  "kernelspec": {
   "display_name": "mercury",
   "language": "python",
   "name": "python3"
  },
  "language_info": {
   "codemirror_mode": {
    "name": "ipython",
    "version": 3
   },
   "file_extension": ".py",
   "mimetype": "text/x-python",
   "name": "python",
   "nbconvert_exporter": "python",
   "pygments_lexer": "ipython3",
   "version": "3.11.7"
  }
 },
 "nbformat": 4,
 "nbformat_minor": 2
}
