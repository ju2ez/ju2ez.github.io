{
 "cells": [
  {
   "cell_type": "code",
   "execution_count": 2,
   "metadata": {},
   "outputs": [],
   "source": [
    "import plotly.express as px\n",
    "import matplotlib.pyplot as plt\n",
    "import torch\n",
    "from einops import rearrange, repeat, reduce"
   ]
  },
  {
   "cell_type": "code",
   "execution_count": 18,
   "metadata": {},
   "outputs": [],
   "source": [
    "# a random vector with height H width W and channel-dim C\n",
    "x = torch.rand(10, 10, 3)"
   ]
  },
  {
   "cell_type": "code",
   "execution_count": 29,
   "metadata": {},
   "outputs": [
    {
     "name": "stdout",
     "output_type": "stream",
     "text": [
      "H W C : [10, 10, 3]\n",
      "C H W : [3, 10, 10]\n",
      "(H W)C : [100, 3]\n"
     ]
    }
   ],
   "source": [
    "print(\"H W C :\", list(x.shape))\n",
    "# we can rearrange the tensor to have the channels as the first dimension\n",
    "print(\"C H W :\", list(rearrange(x, \"H W C -> C H W \").shape))\n",
    "# we can also merge the height and width dimensions\n",
    "print(\"(H W)C :\", list(rearrange(x, \"H W C -> (H W) C\").shape))"
   ]
  },
  {
   "cell_type": "code",
   "execution_count": null,
   "metadata": {},
   "outputs": [],
   "source": []
  }
 ],
 "metadata": {
  "kernelspec": {
   "display_name": "mercury",
   "language": "python",
   "name": "python3"
  },
  "language_info": {
   "codemirror_mode": {
    "name": "ipython",
    "version": 3
   },
   "file_extension": ".py",
   "mimetype": "text/x-python",
   "name": "python",
   "nbconvert_exporter": "python",
   "pygments_lexer": "ipython3",
   "version": "3.12.2"
  }
 },
 "nbformat": 4,
 "nbformat_minor": 2
}
